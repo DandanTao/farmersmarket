{
 "cells": [
  {
   "cell_type": "code",
   "execution_count": 47,
   "metadata": {},
   "outputs": [],
   "source": [
    "import nltk\n",
    "import re\n",
    "import string\n",
    "import unicodedata\n"
   ]
  },
  {
   "cell_type": "code",
   "execution_count": 48,
   "metadata": {},
   "outputs": [
    {
     "name": "stdout",
     "output_type": "stream",
     "text": [
      "['Hello', 'aslkdjflaksjflkJUO', '3']\n",
      "['Hello', 'aslkdjflaksjflkJUO', 'three']\n"
     ]
    }
   ],
   "source": [
    "s=\"Hello....!{()!@*$#&(@!*&)} aslkdjflaksjflkJ@#@U!O 3\"\n",
    "\n",
    "\n",
    "def remove_punctuation(sen):\n",
    "    regex = re.compile(\"[{}]\".format(re.escape(string.punctuation)))\n",
    "    \n",
    "    return regex.sub(\"\", sen)\n",
    "\n",
    "\n",
    "def replace_numbers(sen):\n",
    "    import inflect\n",
    "    \n",
    "    p = inflect.engine()\n",
    "    new_words = []\n",
    "    for word in words:\n",
    "        if word.isdigit():\n",
    "            new_word = p.number_to_words(word)\n",
    "            new_words.append(new_word)\n",
    "        else:\n",
    "            new_words.append(word)\n",
    "    return new_words\n",
    "s = remove_punctuation(s)\n",
    "words = nltk.word_tokenize(s)\n",
    "print(replace_numbers(words))\n"
   ]
  },
  {
   "cell_type": "code",
   "execution_count": null,
   "metadata": {},
   "outputs": [],
   "source": [
    "def to_lowercase(sen):\n",
    "    return sen.lower()"
   ]
  }
 ],
 "metadata": {
  "kernelspec": {
   "display_name": "Python 3",
   "language": "python",
   "name": "python3"
  },
  "language_info": {
   "codemirror_mode": {
    "name": "ipython",
    "version": 3
   },
   "file_extension": ".py",
   "mimetype": "text/x-python",
   "name": "python",
   "nbconvert_exporter": "python",
   "pygments_lexer": "ipython3",
   "version": "3.7.0"
  }
 },
 "nbformat": 4,
 "nbformat_minor": 2
}
